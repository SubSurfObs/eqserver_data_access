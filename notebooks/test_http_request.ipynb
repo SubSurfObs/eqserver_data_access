{
 "cells": [
  {
   "cell_type": "code",
   "execution_count": 1,
   "id": "dfcff4f1-7dcf-4de5-b72c-d679968ca474",
   "metadata": {},
   "outputs": [],
   "source": [
    "import sys, os\n",
    "sys.path.append(os.path.abspath(\"..\"))\n",
    "\n",
    "from datetime import datetime, timezone\n",
    "from scripts.downloader import download_eqserver_waveform\n",
    "\n",
    "# Parameters\n",
    "public_server = \"http://meiproc.earthsci.unimelb.edu.au/eqserver/eqwaveextractor\"\n",
    "private_server = \"http://agoslog.earthsci.unimelb.edu.au/eqserver/eqwaveextractor\"\n",
    "start = datetime(2021, 9, 21, 23, 15, tzinfo=timezone.utc)\n",
    "dest = \"./eqserver_tests\"\n",
    "sitelist = 'clif'\n"
   ]
  },
  {
   "cell_type": "markdown",
   "id": "4e82e4fc-096c-4adf-8f9a-e7635d3076f6",
   "metadata": {},
   "source": [
    "## Public server\n"
   ]
  },
  {
   "cell_type": "code",
   "execution_count": 2,
   "id": "0c49ce75-5dbe-40da-8160-998211c63432",
   "metadata": {
    "collapsed": true,
    "jupyter": {
     "outputs_hidden": true
    }
   },
   "outputs": [
    {
     "name": "stdout",
     "output_type": "stream",
     "text": [
      "Requesting: http://meiproc.earthsci.unimelb.edu.au/eqserver/eqwaveextractor?year=2021&month=9&day=21&hour=23&minute=15&duration=1&servernum=0&conttrig=0&sitechoice=list&sitelist=clif&siteradius=&closesite=&radius=&latitude=&longitude=&fileformat=miniseed&getwave=Get+Waveform\n",
      "Saved: /Users/DSAND/Downloads/eqserver_tests/20210921_2315_clif.miniseed\n"
     ]
    },
    {
     "data": {
      "text/plain": [
       "'/Users/DSAND/Downloads/eqserver_tests/20210921_2315_clif.miniseed'"
      ]
     },
     "execution_count": 2,
     "metadata": {},
     "output_type": "execute_result"
    }
   ],
   "source": [
    "# Download from public MEIPROC (no authentication needed)\n",
    "# Only working when fileformat=\"miniseed\"\n",
    "\n",
    "download_eqserver_waveform(\n",
    "    start_time=start,\n",
    "    duration=1,             # minutes\n",
    "    destination=dest,\n",
    "    sitelist=sitelist,        # or any station name\n",
    "    server_url=public_server,\n",
    "    fileformat=\"miniseed\",      # MiniSEED + StationXML\n",
    ")"
   ]
  },
  {
   "cell_type": "markdown",
   "id": "b141631a-9ae9-46e9-afab-601588bcc260",
   "metadata": {},
   "source": [
    "## private server"
   ]
  },
  {
   "cell_type": "code",
   "execution_count": 3,
   "id": "a3f7981f-c1c1-4b63-a6bb-81bbd628f78e",
   "metadata": {
    "collapsed": true,
    "jupyter": {
     "outputs_hidden": true
    }
   },
   "outputs": [
    {
     "name": "stdout",
     "output_type": "stream",
     "text": [
      "Requesting: http://agoslog.earthsci.unimelb.edu.au/eqserver/eqwaveextractor?year=2021&month=9&day=21&hour=23&minute=15&duration=1&servernum=0&conttrig=0&sitechoice=list&sitelist=clif&siteradius=&closesite=&radius=&latitude=&longitude=&fileformat=mszip&getwave=Get+Waveform\n",
      "Attempt 1 failed: 401 Client Error: Authorization Required for url: http://agoslog.earthsci.unimelb.edu.au/eqserver/eqwaveextractor?year=2021&month=9&day=21&hour=23&minute=15&duration=1&servernum=0&conttrig=0&sitechoice=list&sitelist=clif&siteradius=&closesite=&radius=&latitude=&longitude=&fileformat=mszip&getwave=Get+Waveform\n",
      "Attempt 2 failed: 401 Client Error: Authorization Required for url: http://agoslog.earthsci.unimelb.edu.au/eqserver/eqwaveextractor?year=2021&month=9&day=21&hour=23&minute=15&duration=1&servernum=0&conttrig=0&sitechoice=list&sitelist=clif&siteradius=&closesite=&radius=&latitude=&longitude=&fileformat=mszip&getwave=Get+Waveform\n",
      "Attempt 3 failed: 401 Client Error: Authorization Required for url: http://agoslog.earthsci.unimelb.edu.au/eqserver/eqwaveextractor?year=2021&month=9&day=21&hour=23&minute=15&duration=1&servernum=0&conttrig=0&sitechoice=list&sitelist=clif&siteradius=&closesite=&radius=&latitude=&longitude=&fileformat=mszip&getwave=Get+Waveform\n"
     ]
    },
    {
     "ename": "ConnectionError",
     "evalue": "Failed to download after retries.",
     "output_type": "error",
     "traceback": [
      "\u001b[0;31m---------------------------------------------------------------------------\u001b[0m",
      "\u001b[0;31mConnectionError\u001b[0m                           Traceback (most recent call last)",
      "Cell \u001b[0;32mIn[3], line 3\u001b[0m\n\u001b[1;32m      1\u001b[0m \u001b[38;5;66;03m# Download from AGOSLOG (needs authentication + VPN)\u001b[39;00m\n\u001b[0;32m----> 3\u001b[0m \u001b[43mdownload_eqserver_waveform\u001b[49m\u001b[43m(\u001b[49m\n\u001b[1;32m      4\u001b[0m \u001b[43m    \u001b[49m\u001b[43mstart_time\u001b[49m\u001b[38;5;241;43m=\u001b[39;49m\u001b[43mstart\u001b[49m\u001b[43m,\u001b[49m\n\u001b[1;32m      5\u001b[0m \u001b[43m    \u001b[49m\u001b[43mduration\u001b[49m\u001b[38;5;241;43m=\u001b[39;49m\u001b[38;5;241;43m1\u001b[39;49m\u001b[43m,\u001b[49m\n\u001b[1;32m      6\u001b[0m \u001b[43m    \u001b[49m\u001b[43mdestination\u001b[49m\u001b[38;5;241;43m=\u001b[39;49m\u001b[43mdest\u001b[49m\u001b[43m,\u001b[49m\n\u001b[1;32m      7\u001b[0m \u001b[43m    \u001b[49m\u001b[43msitelist\u001b[49m\u001b[38;5;241;43m=\u001b[39;49m\u001b[43msitelist\u001b[49m\u001b[43m,\u001b[49m\n\u001b[1;32m      8\u001b[0m \u001b[43m    \u001b[49m\u001b[43mserver_url\u001b[49m\u001b[38;5;241;43m=\u001b[39;49m\u001b[43mprivate_server\u001b[49m\u001b[43m,\u001b[49m\n\u001b[1;32m      9\u001b[0m \u001b[43m    \u001b[49m\u001b[43mauth_username\u001b[49m\u001b[38;5;241;43m=\u001b[39;49m\u001b[38;5;124;43m\"\u001b[39;49m\u001b[38;5;124;43muser\u001b[39;49m\u001b[38;5;124;43m\"\u001b[39;49m\u001b[43m,\u001b[49m\n\u001b[1;32m     10\u001b[0m \u001b[43m    \u001b[49m\u001b[43mauth_password\u001b[49m\u001b[38;5;241;43m=\u001b[39;49m\u001b[38;5;124;43m\"\u001b[39;49m\u001b[38;5;124;43mpw\u001b[39;49m\u001b[38;5;124;43m\"\u001b[39;49m\u001b[43m,\u001b[49m\u001b[43m \u001b[49m\n\u001b[1;32m     11\u001b[0m \u001b[43m    \u001b[49m\u001b[43mfileformat\u001b[49m\u001b[38;5;241;43m=\u001b[39;49m\u001b[38;5;124;43m\"\u001b[39;49m\u001b[38;5;124;43mmszip\u001b[39;49m\u001b[38;5;124;43m\"\u001b[39;49m\n\u001b[1;32m     12\u001b[0m \u001b[43m)\u001b[49m\n",
      "File \u001b[0;32m~/projects/SubSurfObs/eqserver_data_access/scripts/downloader.py:95\u001b[0m, in \u001b[0;36mdownload_eqserver_waveform\u001b[0;34m(start_time, duration, destination, sitelist, server_url, auth_username, auth_password, fileformat, unzip, verify_ssl, retries, retry_delay)\u001b[0m\n\u001b[1;32m     93\u001b[0m         time\u001b[38;5;241m.\u001b[39msleep(retry_delay)\n\u001b[1;32m     94\u001b[0m \u001b[38;5;28;01melse\u001b[39;00m:\n\u001b[0;32m---> 95\u001b[0m     \u001b[38;5;28;01mraise\u001b[39;00m \u001b[38;5;167;01mConnectionError\u001b[39;00m(\u001b[38;5;124m\"\u001b[39m\u001b[38;5;124mFailed to download after retries.\u001b[39m\u001b[38;5;124m\"\u001b[39m)\n\u001b[1;32m     97\u001b[0m \u001b[38;5;66;03m# Save file\u001b[39;00m\n\u001b[1;32m     98\u001b[0m fname \u001b[38;5;241m=\u001b[39m \u001b[38;5;124mf\u001b[39m\u001b[38;5;124m\"\u001b[39m\u001b[38;5;132;01m{\u001b[39;00mstart_time\u001b[38;5;241m.\u001b[39mstrftime(\u001b[38;5;124m'\u001b[39m\u001b[38;5;124m%\u001b[39m\u001b[38;5;124mY\u001b[39m\u001b[38;5;124m%\u001b[39m\u001b[38;5;124mm\u001b[39m\u001b[38;5;132;01m%d\u001b[39;00m\u001b[38;5;124m_\u001b[39m\u001b[38;5;124m%\u001b[39m\u001b[38;5;124mH\u001b[39m\u001b[38;5;124m%\u001b[39m\u001b[38;5;124mM\u001b[39m\u001b[38;5;124m'\u001b[39m)\u001b[38;5;132;01m}\u001b[39;00m\u001b[38;5;124m_\u001b[39m\u001b[38;5;132;01m{\u001b[39;00msitelist\u001b[38;5;132;01m}\u001b[39;00m\u001b[38;5;124m.\u001b[39m\u001b[38;5;132;01m{\u001b[39;00mfileformat\u001b[38;5;132;01m}\u001b[39;00m\u001b[38;5;124m\"\u001b[39m\n",
      "\u001b[0;31mConnectionError\u001b[0m: Failed to download after retries."
     ]
    }
   ],
   "source": [
    "# Download from AGOSLOG (needs authentication + VPN)\n",
    "\n",
    "download_eqserver_waveform(\n",
    "    start_time=start,\n",
    "    duration=1,\n",
    "    destination=dest,\n",
    "    sitelist=sitelist,\n",
    "    server_url=private_server,\n",
    "    auth_username=\"user\",\n",
    "    auth_password=\"pw\", \n",
    "    fileformat=\"mszip\"\n",
    ")"
   ]
  },
  {
   "cell_type": "code",
   "execution_count": null,
   "id": "c2a955d0-8095-4afb-9436-c3edead7e570",
   "metadata": {
    "collapsed": true,
    "jupyter": {
     "outputs_hidden": true
    }
   },
   "outputs": [],
   "source": []
  }
 ],
 "metadata": {
  "kernelspec": {
   "display_name": "Python 3 (ipykernel)",
   "language": "python",
   "name": "python3"
  },
  "language_info": {
   "codemirror_mode": {
    "name": "ipython",
    "version": 3
   },
   "file_extension": ".py",
   "mimetype": "text/x-python",
   "name": "python",
   "nbconvert_exporter": "python",
   "pygments_lexer": "ipython3",
   "version": "3.9.19"
  }
 },
 "nbformat": 4,
 "nbformat_minor": 5
}
